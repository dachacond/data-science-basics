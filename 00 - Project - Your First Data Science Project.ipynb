{
 "cells": [
  {
   "attachments": {},
   "cell_type": "markdown",
   "id": "837554ae",
   "metadata": {},
   "source": [
    "# Project - Guide school to activities to improve G3 grades"
   ]
  },
  {
   "attachments": {},
   "cell_type": "markdown",
   "id": "f64580d7",
   "metadata": {},
   "source": [
    "![Data Science Workflow](img/ds-workflow.png)"
   ]
  },
  {
   "attachments": {},
   "cell_type": "markdown",
   "id": "7524422c",
   "metadata": {},
   "source": [
    "## Goal of Project\n",
    "- Explore the dataset from lesson further\n",
    "- Follow the Data Science process to understand it better\n",
    "- It will be your task to identify possible activies to improve G3 grades\n",
    "- NOTE: We have very limited skills, hence, we must limit our ambitions in our analysis"
   ]
  },
  {
   "attachments": {},
   "cell_type": "markdown",
   "id": "17134954",
   "metadata": {},
   "source": [
    "## Step 1: Acquire\n",
    "- Explore problem\n",
    "- Identify data\n",
    "- Import data"
   ]
  },
  {
   "attachments": {},
   "cell_type": "markdown",
   "id": "30bf6278",
   "metadata": {},
   "source": [
    "### Step 1.a: Import libraries\n",
    "- Execute the cell below (SHIFT + ENTER)"
   ]
  },
  {
   "cell_type": "code",
   "execution_count": 2,
   "id": "d787beb5",
   "metadata": {},
   "outputs": [
    {
     "data": {
      "text/plain": [
       "'2.0.0'"
      ]
     },
     "execution_count": 2,
     "metadata": {},
     "output_type": "execute_result"
    }
   ],
   "source": [
    "import pandas as pd\n",
    "pd.__version__"
   ]
  },
  {
   "attachments": {},
   "cell_type": "markdown",
   "id": "10f05487",
   "metadata": {},
   "source": [
    "### Step 1.b: Read the data\n",
    "- Use ```pd.read_csv()``` to read the file `files/student-mat.csv`\n",
    "- NOTE: Remember to assign the result to a variable (e.g., ```data```)"
   ]
  },
  {
   "cell_type": "code",
   "execution_count": 3,
   "id": "d01011fd",
   "metadata": {},
   "outputs": [],
   "source": [
    "data = pd.read_csv('files/student-mat.csv')"
   ]
  },
  {
   "attachments": {},
   "cell_type": "markdown",
   "id": "65ba503a",
   "metadata": {},
   "source": [
    "### Step 1.c: Inspect the data\n",
    "- Call ```.head()``` on the data to see all is as expected"
   ]
  },
  {
   "cell_type": "code",
   "execution_count": 4,
   "id": "8b74e6ff",
   "metadata": {},
   "outputs": [
    {
     "data": {
      "text/html": [
       "<div>\n",
       "<style scoped>\n",
       "    .dataframe tbody tr th:only-of-type {\n",
       "        vertical-align: middle;\n",
       "    }\n",
       "\n",
       "    .dataframe tbody tr th {\n",
       "        vertical-align: top;\n",
       "    }\n",
       "\n",
       "    .dataframe thead th {\n",
       "        text-align: right;\n",
       "    }\n",
       "</style>\n",
       "<table border=\"1\" class=\"dataframe\">\n",
       "  <thead>\n",
       "    <tr style=\"text-align: right;\">\n",
       "      <th></th>\n",
       "      <th>school</th>\n",
       "      <th>sex</th>\n",
       "      <th>age</th>\n",
       "      <th>address</th>\n",
       "      <th>famsize</th>\n",
       "      <th>Pstatus</th>\n",
       "      <th>Medu</th>\n",
       "      <th>Fedu</th>\n",
       "      <th>Mjob</th>\n",
       "      <th>Fjob</th>\n",
       "      <th>...</th>\n",
       "      <th>famrel</th>\n",
       "      <th>freetime</th>\n",
       "      <th>goout</th>\n",
       "      <th>Dalc</th>\n",
       "      <th>Walc</th>\n",
       "      <th>health</th>\n",
       "      <th>absences</th>\n",
       "      <th>G1</th>\n",
       "      <th>G2</th>\n",
       "      <th>G3</th>\n",
       "    </tr>\n",
       "  </thead>\n",
       "  <tbody>\n",
       "    <tr>\n",
       "      <th>0</th>\n",
       "      <td>GP</td>\n",
       "      <td>F</td>\n",
       "      <td>18</td>\n",
       "      <td>U</td>\n",
       "      <td>GT3</td>\n",
       "      <td>A</td>\n",
       "      <td>4</td>\n",
       "      <td>4</td>\n",
       "      <td>at_home</td>\n",
       "      <td>teacher</td>\n",
       "      <td>...</td>\n",
       "      <td>4</td>\n",
       "      <td>3</td>\n",
       "      <td>4</td>\n",
       "      <td>1</td>\n",
       "      <td>1</td>\n",
       "      <td>3</td>\n",
       "      <td>6</td>\n",
       "      <td>5</td>\n",
       "      <td>6</td>\n",
       "      <td>6</td>\n",
       "    </tr>\n",
       "    <tr>\n",
       "      <th>1</th>\n",
       "      <td>GP</td>\n",
       "      <td>F</td>\n",
       "      <td>17</td>\n",
       "      <td>U</td>\n",
       "      <td>GT3</td>\n",
       "      <td>T</td>\n",
       "      <td>1</td>\n",
       "      <td>1</td>\n",
       "      <td>at_home</td>\n",
       "      <td>other</td>\n",
       "      <td>...</td>\n",
       "      <td>5</td>\n",
       "      <td>3</td>\n",
       "      <td>3</td>\n",
       "      <td>1</td>\n",
       "      <td>1</td>\n",
       "      <td>3</td>\n",
       "      <td>4</td>\n",
       "      <td>5</td>\n",
       "      <td>5</td>\n",
       "      <td>6</td>\n",
       "    </tr>\n",
       "    <tr>\n",
       "      <th>2</th>\n",
       "      <td>GP</td>\n",
       "      <td>F</td>\n",
       "      <td>15</td>\n",
       "      <td>U</td>\n",
       "      <td>LE3</td>\n",
       "      <td>T</td>\n",
       "      <td>1</td>\n",
       "      <td>1</td>\n",
       "      <td>at_home</td>\n",
       "      <td>other</td>\n",
       "      <td>...</td>\n",
       "      <td>4</td>\n",
       "      <td>3</td>\n",
       "      <td>2</td>\n",
       "      <td>2</td>\n",
       "      <td>3</td>\n",
       "      <td>3</td>\n",
       "      <td>10</td>\n",
       "      <td>7</td>\n",
       "      <td>8</td>\n",
       "      <td>10</td>\n",
       "    </tr>\n",
       "    <tr>\n",
       "      <th>3</th>\n",
       "      <td>GP</td>\n",
       "      <td>F</td>\n",
       "      <td>15</td>\n",
       "      <td>U</td>\n",
       "      <td>GT3</td>\n",
       "      <td>T</td>\n",
       "      <td>4</td>\n",
       "      <td>2</td>\n",
       "      <td>health</td>\n",
       "      <td>services</td>\n",
       "      <td>...</td>\n",
       "      <td>3</td>\n",
       "      <td>2</td>\n",
       "      <td>2</td>\n",
       "      <td>1</td>\n",
       "      <td>1</td>\n",
       "      <td>5</td>\n",
       "      <td>2</td>\n",
       "      <td>15</td>\n",
       "      <td>14</td>\n",
       "      <td>15</td>\n",
       "    </tr>\n",
       "    <tr>\n",
       "      <th>4</th>\n",
       "      <td>GP</td>\n",
       "      <td>F</td>\n",
       "      <td>16</td>\n",
       "      <td>U</td>\n",
       "      <td>GT3</td>\n",
       "      <td>T</td>\n",
       "      <td>3</td>\n",
       "      <td>3</td>\n",
       "      <td>other</td>\n",
       "      <td>other</td>\n",
       "      <td>...</td>\n",
       "      <td>4</td>\n",
       "      <td>3</td>\n",
       "      <td>2</td>\n",
       "      <td>1</td>\n",
       "      <td>2</td>\n",
       "      <td>5</td>\n",
       "      <td>4</td>\n",
       "      <td>6</td>\n",
       "      <td>10</td>\n",
       "      <td>10</td>\n",
       "    </tr>\n",
       "  </tbody>\n",
       "</table>\n",
       "<p>5 rows × 33 columns</p>\n",
       "</div>"
      ],
      "text/plain": [
       "  school sex  age address famsize Pstatus  Medu  Fedu     Mjob      Fjob  ...   \n",
       "0     GP   F   18       U     GT3       A     4     4  at_home   teacher  ...  \\\n",
       "1     GP   F   17       U     GT3       T     1     1  at_home     other  ...   \n",
       "2     GP   F   15       U     LE3       T     1     1  at_home     other  ...   \n",
       "3     GP   F   15       U     GT3       T     4     2   health  services  ...   \n",
       "4     GP   F   16       U     GT3       T     3     3    other     other  ...   \n",
       "\n",
       "  famrel freetime  goout  Dalc  Walc health absences  G1  G2  G3  \n",
       "0      4        3      4     1     1      3        6   5   6   6  \n",
       "1      5        3      3     1     1      3        4   5   5   6  \n",
       "2      4        3      2     2     3      3       10   7   8  10  \n",
       "3      3        2      2     1     1      5        2  15  14  15  \n",
       "4      4        3      2     1     2      5        4   6  10  10  \n",
       "\n",
       "[5 rows x 33 columns]"
      ]
     },
     "execution_count": 4,
     "metadata": {},
     "output_type": "execute_result"
    }
   ],
   "source": [
    "data.head()"
   ]
  },
  {
   "attachments": {},
   "cell_type": "markdown",
   "id": "8cadc020",
   "metadata": {},
   "source": [
    "### Step 1.d: Check length of data\n",
    "- Call ```len(...)``` on the data\n",
    "- Result: There should be 395 rows of data"
   ]
  },
  {
   "cell_type": "code",
   "execution_count": 5,
   "id": "9c2f6aca",
   "metadata": {},
   "outputs": [
    {
     "data": {
      "text/plain": [
       "395"
      ]
     },
     "execution_count": 5,
     "metadata": {},
     "output_type": "execute_result"
    }
   ],
   "source": [
    "len(data)"
   ]
  },
  {
   "attachments": {},
   "cell_type": "markdown",
   "id": "eb0eac44",
   "metadata": {},
   "source": [
    "## Step 2: Prepare\n",
    "- Explore data\n",
    "- Visualize ideas\n",
    "- Cleaning data"
   ]
  },
  {
   "attachments": {},
   "cell_type": "markdown",
   "id": "089d3e83",
   "metadata": {},
   "source": [
    "### Notice\n",
    "- We will not cover visualization in this lecture\n",
    "- We also know, that the data is clean - but we will do validations here anyway"
   ]
  },
  {
   "attachments": {},
   "cell_type": "markdown",
   "id": "db6ae1f9",
   "metadata": {},
   "source": [
    "### Step 2.a: Check the data types\n",
    "- This step tells you if some numeric column is not represented numeric.\n",
    "- Get the data types by ```.dtypes```"
   ]
  },
  {
   "cell_type": "code",
   "execution_count": 6,
   "id": "0783a18d",
   "metadata": {},
   "outputs": [
    {
     "data": {
      "text/plain": [
       "school        object\n",
       "sex           object\n",
       "age            int64\n",
       "address       object\n",
       "famsize       object\n",
       "Pstatus       object\n",
       "Medu           int64\n",
       "Fedu           int64\n",
       "Mjob          object\n",
       "Fjob          object\n",
       "reason        object\n",
       "guardian      object\n",
       "traveltime     int64\n",
       "studytime      int64\n",
       "failures       int64\n",
       "schoolsup     object\n",
       "famsup        object\n",
       "paid          object\n",
       "activities    object\n",
       "nursery       object\n",
       "higher        object\n",
       "internet      object\n",
       "romantic      object\n",
       "famrel         int64\n",
       "freetime       int64\n",
       "goout          int64\n",
       "Dalc           int64\n",
       "Walc           int64\n",
       "health         int64\n",
       "absences       int64\n",
       "G1             int64\n",
       "G2             int64\n",
       "G3             int64\n",
       "dtype: object"
      ]
     },
     "execution_count": 6,
     "metadata": {},
     "output_type": "execute_result"
    }
   ],
   "source": [
    "data.dtypes"
   ]
  },
  {
   "attachments": {},
   "cell_type": "markdown",
   "id": "040a49d6",
   "metadata": {},
   "source": [
    "### Step 2.b: Check for null (missing) values\n",
    "- Data often is missing entries - there can be many reasons for this\n",
    "- We need to deal with that (will do later in course)\n",
    "- Use ```.isnull().any()```"
   ]
  },
  {
   "cell_type": "code",
   "execution_count": 7,
   "id": "43ba9b72",
   "metadata": {},
   "outputs": [
    {
     "data": {
      "text/plain": [
       "school        False\n",
       "sex           False\n",
       "age           False\n",
       "address       False\n",
       "famsize       False\n",
       "Pstatus       False\n",
       "Medu          False\n",
       "Fedu          False\n",
       "Mjob          False\n",
       "Fjob          False\n",
       "reason        False\n",
       "guardian      False\n",
       "traveltime    False\n",
       "studytime     False\n",
       "failures      False\n",
       "schoolsup     False\n",
       "famsup        False\n",
       "paid          False\n",
       "activities    False\n",
       "nursery       False\n",
       "higher        False\n",
       "internet      False\n",
       "romantic      False\n",
       "famrel        False\n",
       "freetime      False\n",
       "goout         False\n",
       "Dalc          False\n",
       "Walc          False\n",
       "health        False\n",
       "absences      False\n",
       "G1            False\n",
       "G2            False\n",
       "G3            False\n",
       "dtype: bool"
      ]
     },
     "execution_count": 7,
     "metadata": {},
     "output_type": "execute_result"
    }
   ],
   "source": [
    "data.isnull().any()"
   ]
  },
  {
   "attachments": {},
   "cell_type": "markdown",
   "id": "c3165816",
   "metadata": {},
   "source": [
    "## Step 3: Analyze\n",
    "- Feature selection\n",
    "- Model selection\n",
    "- Analyze data"
   ]
  },
  {
   "attachments": {},
   "cell_type": "markdown",
   "id": "6422b3c0",
   "metadata": {},
   "source": [
    "### Description\n",
    "- Want to find 3 features to use in our report\n",
    "- The 3 features should be selected based on\n",
    "    - Actionable insights\n",
    "    - Convey credibility in report\n",
    "    - What is realistic within possibilities (including a budget)"
   ]
  },
  {
   "attachments": {},
   "cell_type": "markdown",
   "id": "7b6e6e5e",
   "metadata": {},
   "source": [
    "### Note\n",
    "- This step is where you can explore\n",
    "- You know how to use the following:\n",
    "    - **corr()** to find see correlation\n",
    "    - **groupby()** with **mean()**, **count()**, or **std()**\n",
    "- This should be used for step 4: Report"
   ]
  },
  {
   "attachments": {},
   "cell_type": "markdown",
   "id": "00eb0407",
   "metadata": {},
   "source": [
    "### Step 3.a: Investigate correlation\n",
    "- Correlation is an easy measure to find insights that are actionable.\n",
    "- Use **corr()** and only show **G3**, as that is the row we are interested in.\n",
    "    - Notice: **G1** and **G2** are highly correlated, but they are not intented to be used"
   ]
  },
  {
   "cell_type": "code",
   "execution_count": 8,
   "id": "4457bcfa",
   "metadata": {},
   "outputs": [
    {
     "data": {
      "text/plain": [
       "age          -0.161579\n",
       "Medu          0.217147\n",
       "Fedu          0.152457\n",
       "traveltime   -0.117142\n",
       "studytime     0.097820\n",
       "failures     -0.360415\n",
       "famrel        0.051363\n",
       "freetime      0.011307\n",
       "goout        -0.132791\n",
       "Dalc         -0.054660\n",
       "Walc         -0.051939\n",
       "health       -0.061335\n",
       "absences      0.034247\n",
       "G1            0.801468\n",
       "G2            0.904868\n",
       "G3            1.000000\n",
       "Name: G3, dtype: float64"
      ]
     },
     "execution_count": 8,
     "metadata": {},
     "output_type": "execute_result"
    }
   ],
   "source": [
    "data.corr(numeric_only=True)['G3']"
   ]
  },
  {
   "attachments": {},
   "cell_type": "markdown",
   "id": "a8eab491",
   "metadata": {},
   "source": [
    "### Step 3.b: Get the Feature names\n",
    "- This step can help you understand features better.\n",
    "- All the features are availbale witb **.columns** applied on the **DataFrame**"
   ]
  },
  {
   "cell_type": "code",
   "execution_count": 9,
   "id": "f5099bd8",
   "metadata": {},
   "outputs": [
    {
     "data": {
      "text/plain": [
       "Index(['school', 'sex', 'age', 'address', 'famsize', 'Pstatus', 'Medu', 'Fedu',\n",
       "       'Mjob', 'Fjob', 'reason', 'guardian', 'traveltime', 'studytime',\n",
       "       'failures', 'schoolsup', 'famsup', 'paid', 'activities', 'nursery',\n",
       "       'higher', 'internet', 'romantic', 'famrel', 'freetime', 'goout', 'Dalc',\n",
       "       'Walc', 'health', 'absences', 'G1', 'G2', 'G3'],\n",
       "      dtype='object')"
      ]
     },
     "execution_count": 9,
     "metadata": {},
     "output_type": "execute_result"
    }
   ],
   "source": [
    "data.columns"
   ]
  },
  {
   "cell_type": "code",
   "execution_count": 10,
   "id": "0f9a8a81",
   "metadata": {},
   "outputs": [
    {
     "data": {
      "text/html": [
       "<div>\n",
       "<style scoped>\n",
       "    .dataframe tbody tr th:only-of-type {\n",
       "        vertical-align: middle;\n",
       "    }\n",
       "\n",
       "    .dataframe tbody tr th {\n",
       "        vertical-align: top;\n",
       "    }\n",
       "\n",
       "    .dataframe thead th {\n",
       "        text-align: right;\n",
       "    }\n",
       "</style>\n",
       "<table border=\"1\" class=\"dataframe\">\n",
       "  <thead>\n",
       "    <tr style=\"text-align: right;\">\n",
       "      <th></th>\n",
       "      <th>school</th>\n",
       "      <th>sex</th>\n",
       "      <th>age</th>\n",
       "      <th>address</th>\n",
       "      <th>famsize</th>\n",
       "      <th>Pstatus</th>\n",
       "      <th>Medu</th>\n",
       "      <th>Fedu</th>\n",
       "      <th>Mjob</th>\n",
       "      <th>Fjob</th>\n",
       "      <th>...</th>\n",
       "      <th>famrel</th>\n",
       "      <th>freetime</th>\n",
       "      <th>goout</th>\n",
       "      <th>Dalc</th>\n",
       "      <th>Walc</th>\n",
       "      <th>health</th>\n",
       "      <th>absences</th>\n",
       "      <th>G1</th>\n",
       "      <th>G2</th>\n",
       "      <th>G3</th>\n",
       "    </tr>\n",
       "  </thead>\n",
       "  <tbody>\n",
       "    <tr>\n",
       "      <th>0</th>\n",
       "      <td>GP</td>\n",
       "      <td>F</td>\n",
       "      <td>18</td>\n",
       "      <td>U</td>\n",
       "      <td>GT3</td>\n",
       "      <td>A</td>\n",
       "      <td>4</td>\n",
       "      <td>4</td>\n",
       "      <td>at_home</td>\n",
       "      <td>teacher</td>\n",
       "      <td>...</td>\n",
       "      <td>4</td>\n",
       "      <td>3</td>\n",
       "      <td>4</td>\n",
       "      <td>1</td>\n",
       "      <td>1</td>\n",
       "      <td>3</td>\n",
       "      <td>6</td>\n",
       "      <td>5</td>\n",
       "      <td>6</td>\n",
       "      <td>6</td>\n",
       "    </tr>\n",
       "    <tr>\n",
       "      <th>1</th>\n",
       "      <td>GP</td>\n",
       "      <td>F</td>\n",
       "      <td>17</td>\n",
       "      <td>U</td>\n",
       "      <td>GT3</td>\n",
       "      <td>T</td>\n",
       "      <td>1</td>\n",
       "      <td>1</td>\n",
       "      <td>at_home</td>\n",
       "      <td>other</td>\n",
       "      <td>...</td>\n",
       "      <td>5</td>\n",
       "      <td>3</td>\n",
       "      <td>3</td>\n",
       "      <td>1</td>\n",
       "      <td>1</td>\n",
       "      <td>3</td>\n",
       "      <td>4</td>\n",
       "      <td>5</td>\n",
       "      <td>5</td>\n",
       "      <td>6</td>\n",
       "    </tr>\n",
       "    <tr>\n",
       "      <th>2</th>\n",
       "      <td>GP</td>\n",
       "      <td>F</td>\n",
       "      <td>15</td>\n",
       "      <td>U</td>\n",
       "      <td>LE3</td>\n",
       "      <td>T</td>\n",
       "      <td>1</td>\n",
       "      <td>1</td>\n",
       "      <td>at_home</td>\n",
       "      <td>other</td>\n",
       "      <td>...</td>\n",
       "      <td>4</td>\n",
       "      <td>3</td>\n",
       "      <td>2</td>\n",
       "      <td>2</td>\n",
       "      <td>3</td>\n",
       "      <td>3</td>\n",
       "      <td>10</td>\n",
       "      <td>7</td>\n",
       "      <td>8</td>\n",
       "      <td>10</td>\n",
       "    </tr>\n",
       "    <tr>\n",
       "      <th>3</th>\n",
       "      <td>GP</td>\n",
       "      <td>F</td>\n",
       "      <td>15</td>\n",
       "      <td>U</td>\n",
       "      <td>GT3</td>\n",
       "      <td>T</td>\n",
       "      <td>4</td>\n",
       "      <td>2</td>\n",
       "      <td>health</td>\n",
       "      <td>services</td>\n",
       "      <td>...</td>\n",
       "      <td>3</td>\n",
       "      <td>2</td>\n",
       "      <td>2</td>\n",
       "      <td>1</td>\n",
       "      <td>1</td>\n",
       "      <td>5</td>\n",
       "      <td>2</td>\n",
       "      <td>15</td>\n",
       "      <td>14</td>\n",
       "      <td>15</td>\n",
       "    </tr>\n",
       "    <tr>\n",
       "      <th>4</th>\n",
       "      <td>GP</td>\n",
       "      <td>F</td>\n",
       "      <td>16</td>\n",
       "      <td>U</td>\n",
       "      <td>GT3</td>\n",
       "      <td>T</td>\n",
       "      <td>3</td>\n",
       "      <td>3</td>\n",
       "      <td>other</td>\n",
       "      <td>other</td>\n",
       "      <td>...</td>\n",
       "      <td>4</td>\n",
       "      <td>3</td>\n",
       "      <td>2</td>\n",
       "      <td>1</td>\n",
       "      <td>2</td>\n",
       "      <td>5</td>\n",
       "      <td>4</td>\n",
       "      <td>6</td>\n",
       "      <td>10</td>\n",
       "      <td>10</td>\n",
       "    </tr>\n",
       "  </tbody>\n",
       "</table>\n",
       "<p>5 rows × 33 columns</p>\n",
       "</div>"
      ],
      "text/plain": [
       "  school sex  age address famsize Pstatus  Medu  Fedu     Mjob      Fjob  ...   \n",
       "0     GP   F   18       U     GT3       A     4     4  at_home   teacher  ...  \\\n",
       "1     GP   F   17       U     GT3       T     1     1  at_home     other  ...   \n",
       "2     GP   F   15       U     LE3       T     1     1  at_home     other  ...   \n",
       "3     GP   F   15       U     GT3       T     4     2   health  services  ...   \n",
       "4     GP   F   16       U     GT3       T     3     3    other     other  ...   \n",
       "\n",
       "  famrel freetime  goout  Dalc  Walc health absences  G1  G2  G3  \n",
       "0      4        3      4     1     1      3        6   5   6   6  \n",
       "1      5        3      3     1     1      3        4   5   5   6  \n",
       "2      4        3      2     2     3      3       10   7   8  10  \n",
       "3      3        2      2     1     1      5        2  15  14  15  \n",
       "4      4        3      2     1     2      5        4   6  10  10  \n",
       "\n",
       "[5 rows x 33 columns]"
      ]
     },
     "execution_count": 10,
     "metadata": {},
     "output_type": "execute_result"
    }
   ],
   "source": [
    "data.head()"
   ]
  },
  {
   "attachments": {},
   "cell_type": "markdown",
   "id": "77ec5a6d",
   "metadata": {},
   "source": [
    "### Step 3.c: Investigate features\n",
    "**Repeat this step** (possibly for all features)\n",
    "- Select a features\n",
    "- Calculate the **groupby(...)** **mean()** on **G3**\n",
    "    - HINT: This was done in the lesson\n",
    "- Calculate the **groupby(...)** **count()** on **G3**\n",
    "- Calculate the **groupby(...)** **std()** on **G3**"
   ]
  },
  {
   "cell_type": "code",
   "execution_count": 11,
   "id": "2b773b06",
   "metadata": {},
   "outputs": [
    {
     "data": {
      "text/plain": [
       "school\n",
       "GP    10.489971\n",
       "MS     9.847826\n",
       "Name: G3, dtype: float64"
      ]
     },
     "execution_count": 11,
     "metadata": {},
     "output_type": "execute_result"
    }
   ],
   "source": [
    "data.groupby('school')['G3'].mean()"
   ]
  },
  {
   "cell_type": "code",
   "execution_count": 12,
   "id": "4688fc9c",
   "metadata": {},
   "outputs": [
    {
     "data": {
      "text/plain": [
       "school\n",
       "GP    349\n",
       "MS     46\n",
       "Name: G3, dtype: int64"
      ]
     },
     "execution_count": 12,
     "metadata": {},
     "output_type": "execute_result"
    }
   ],
   "source": [
    "data.groupby('school')['G3'].count()"
   ]
  },
  {
   "cell_type": "code",
   "execution_count": 13,
   "id": "bf7c5dab",
   "metadata": {},
   "outputs": [
    {
     "data": {
      "text/plain": [
       "school\n",
       "GP    4.625397\n",
       "MS    4.237229\n",
       "Name: G3, dtype: float64"
      ]
     },
     "execution_count": 13,
     "metadata": {},
     "output_type": "execute_result"
    }
   ],
   "source": [
    "data.groupby('school')['G3'].std()"
   ]
  },
  {
   "attachments": {},
   "cell_type": "markdown",
   "id": "a25d5bb9",
   "metadata": {},
   "source": [
    "### Step 3.d Select 3 features\n",
    "- Decide on 3 features to use in the report\n",
    "- The decision should be based on\n",
    "    - Actionable insights\n",
    "    - Convey credibility in report\n",
    "    - What is realistic within possibilities (including a budget)"
   ]
  },
  {
   "cell_type": "code",
   "execution_count": 31,
   "id": "bd00abde",
   "metadata": {},
   "outputs": [
    {
     "data": {
      "text/plain": [
       "studytime\n",
       "1    105\n",
       "2    198\n",
       "3     65\n",
       "4     27\n",
       "Name: G3, dtype: int64"
      ]
     },
     "execution_count": 31,
     "metadata": {},
     "output_type": "execute_result"
    }
   ],
   "source": [
    "data.groupby('studytime')['G3'].count()"
   ]
  },
  {
   "cell_type": "code",
   "execution_count": 32,
   "id": "08aedbbf",
   "metadata": {},
   "outputs": [
    {
     "data": {
      "text/plain": [
       "studytime\n",
       "1    10.047619\n",
       "2    10.171717\n",
       "3    11.400000\n",
       "4    11.259259\n",
       "Name: G3, dtype: float64"
      ]
     },
     "execution_count": 32,
     "metadata": {},
     "output_type": "execute_result"
    }
   ],
   "source": [
    "data.groupby('studytime')['G3'].mean()"
   ]
  },
  {
   "cell_type": "code",
   "execution_count": 25,
   "id": "4ac4faca",
   "metadata": {},
   "outputs": [
    {
     "data": {
      "text/plain": [
       "schoolsup\n",
       "no     344\n",
       "yes     51\n",
       "Name: G3, dtype: int64"
      ]
     },
     "execution_count": 25,
     "metadata": {},
     "output_type": "execute_result"
    }
   ],
   "source": [
    "data.groupby('schoolsup')['G3'].count()"
   ]
  },
  {
   "cell_type": "code",
   "execution_count": 37,
   "id": "1f2a8dd4",
   "metadata": {},
   "outputs": [
    {
     "data": {
      "text/plain": [
       "12.91139240506329"
      ]
     },
     "execution_count": 37,
     "metadata": {},
     "output_type": "execute_result"
    }
   ],
   "source": [
    "students_without_schoolsup= (51/len(data))*100\n",
    "students_without_schoolsup"
   ]
  },
  {
   "cell_type": "code",
   "execution_count": 29,
   "id": "c6ca6af7",
   "metadata": {},
   "outputs": [
    {
     "data": {
      "text/plain": [
       "failures\n",
       "0    11.253205\n",
       "1     8.120000\n",
       "2     6.235294\n",
       "3     5.687500\n",
       "Name: G3, dtype: float64"
      ]
     },
     "execution_count": 29,
     "metadata": {},
     "output_type": "execute_result"
    }
   ],
   "source": [
    "data.groupby('failures')['G3'].mean()"
   ]
  },
  {
   "cell_type": "code",
   "execution_count": 30,
   "id": "53d977a0",
   "metadata": {},
   "outputs": [
    {
     "data": {
      "text/plain": [
       "health\n",
       "1    11.872340\n",
       "2    10.222222\n",
       "3    10.010989\n",
       "4    10.106061\n",
       "5    10.397260\n",
       "Name: G3, dtype: float64"
      ]
     },
     "execution_count": 30,
     "metadata": {},
     "output_type": "execute_result"
    }
   ],
   "source": [
    "data.groupby('health')['G3'].mean()"
   ]
  },
  {
   "attachments": {},
   "cell_type": "markdown",
   "id": "28d82546",
   "metadata": {},
   "source": [
    "## Step 4: Report\n",
    "- Present findings\n",
    "- Visualize results\n",
    "- Credibility counts"
   ]
  },
  {
   "attachments": {},
   "cell_type": "markdown",
   "id": "eb11258b",
   "metadata": {},
   "source": [
    "### Description\n",
    "- With the 3 features from step 3 create a presentation\n",
    "- As we have not learned visualization yet, keep it simple\n",
    "- Remember, that credibility counts"
   ]
  },
  {
   "attachments": {},
   "cell_type": "markdown",
   "id": "aab7c48e",
   "metadata": {},
   "source": [
    "### Notice\n",
    "- At this stage it is not supposed to be perfect.\n",
    "- Present the findings here in the Notebook"
   ]
  },
  {
   "attachments": {},
   "cell_type": "markdown",
   "id": "179b239f",
   "metadata": {},
   "source": [
    "### Analysis of three characteristics related to students' G3 grades\n",
    "\n",
    "#### Introduction:\n",
    "In this presentation, we'll look at three features that might be related to the G3 scores of students in our dataframe. Through this analysis, we can identify potential areas for improvement and propose solutions that can help students improve their grades.\n",
    "\n",
    "- Feature 1: Weekly Study Time\n",
    "One of the most obvious features to consider is the students' weekly study time. According to our dataframe, the average study time of students is around 1-2 hours per week, but some students study more or less. This suggests that there might be a correlation between the time students spend studying and their G3 scores. By encouraging students to study harder, whether through educational support programs, tutoring, or simply by providing them with additional resources, we can help them improve their grades.\n",
    "\n",
    "- Feature 2: Educational support\n",
    "The \"schoolsup\" column indicates whether students receive educational support from the school. Although only 13% of students indicated that they received educational support, this characteristic could be important in improving G3 scores. Students who receive instructional support may be learning skills and strategies that allow them to be successful in school, and this could be reflected in their grades. Providing educational support to more students, either through after-school programs or in the classroom itself, could be an effective way to improve G3 scores.\n",
    "\n",
    "- Feature 3: Medu \n",
    "The mother's level of education has a moderate positive correlation with G3 scores (0.217147). This suggests that mothers with higher levels of education may be able to provide more support and resources to their children to help them succeed in school.\n",
    "#### Conclusion:\n",
    "By analyzing these three characteristics, we can identify potential areas for improvement and propose solutions to help students improve their G3 scores. By encouraging students to study harder, providing educational support, and improving their health and well-being, we can help them succeed in school and beyond."
   ]
  },
  {
   "attachments": {},
   "cell_type": "markdown",
   "id": "28ff4186",
   "metadata": {},
   "source": [
    "## Step 5: Actions\n",
    "- Use insights\n",
    "- Measure impact\n",
    "- Main goal"
   ]
  },
  {
   "attachments": {},
   "cell_type": "markdown",
   "id": "2034861f",
   "metadata": {},
   "source": [
    "### Description\n",
    "- What actions should the schools take?\n",
    "- How can they evaluate the impact?\n",
    "- Remember, this is the main goal."
   ]
  },
  {
   "attachments": {},
   "cell_type": "markdown",
   "id": "b8a2671e",
   "metadata": {},
   "source": [
    "- Provide one-on-one tutoring: Some students may be struggling with certain subjects or topics and need one-on-one attention. The \"paid\" column indicates whether students have paid for tutoring in the past, suggesting that some may be willing to invest in one-on-one tutoring. It would be important to work with the school's teachers to identify students who need this type of help and provide them with tutors who can work with them on an individualized study plan.\n",
    "\n",
    "- Encourage participation in extracurricular activities: The \"activities\" column indicates whether or not students participate in extracurricular activities. Encouraging students to engage in these activities could help them develop important skills like time management and problem solving, and it could also help them find a passion that motivates them to try harder in their studies.\n",
    "\n",
    "- Offer educational support programs: The \"schoolsup\" column indicates whether or not students receive educational support from the school. Offering educational support programs after school could help students improve their skills in specific areas and provide them with the extra help they need to succeed in their studies.\n",
    "\n",
    "- Provide access to technology and online resources: The “internet” column indicates whether students have access to the internet at home. Providing access to online educational resources, such as tutorials and educational videos, could help students learn at their own pace and complement what they are learning in school.\n",
    "\n",
    "- Working with parents and guardians: The \"famsize\" column indicates the family size and the \"Medu\" and \"Fedu\" column indicates the educational level of the parents. Working with parents and guardians to ensure that students have a calm and supportive study environment at home, as well as providing them with additional resources, such as books or study materials, could help students improve their grades."
   ]
  }
 ],
 "metadata": {
  "kernelspec": {
   "display_name": "Python 3 (ipykernel)",
   "language": "python",
   "name": "python3"
  },
  "language_info": {
   "codemirror_mode": {
    "name": "ipython",
    "version": 3
   },
   "file_extension": ".py",
   "mimetype": "text/x-python",
   "name": "python",
   "nbconvert_exporter": "python",
   "pygments_lexer": "ipython3",
   "version": "3.10.9"
  }
 },
 "nbformat": 4,
 "nbformat_minor": 5
}
